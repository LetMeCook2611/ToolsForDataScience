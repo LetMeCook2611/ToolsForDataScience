{
  "cells": [
    {
      "cell_type": "markdown",
      "id": "86caf816",
      "metadata": {
        "id": "86caf816"
      },
      "source": [
        "# Data Science Tools and Ecosystem"
      ]
    },
    {
      "cell_type": "markdown",
      "id": "36145b0f",
      "metadata": {
        "id": "36145b0f"
      },
      "source": [
        "## Author\n",
        "Hrituraj Bhardwaj\n"
      ]
    },
    {
      "cell_type": "markdown",
      "id": "cf47831e",
      "metadata": {
        "id": "cf47831e"
      },
      "source": [
        "## Introduction\n",
        "This is the introduction to the jupyter notebook. In this notebook, Data Science Tools and Ecosystem are summarized."
      ]
    },
    {
      "cell_type": "markdown",
      "id": "9ea01b0d",
      "metadata": {
        "id": "9ea01b0d"
      },
      "source": [
        "**Objectives:**\n",
        "* List some popular languages used for data science\n",
        "* List commonly used libraries for data science\n",
        "* Explore Markdown table formatting\n",
        "* Experiment with executing arithmatic operations using python syntax\n",
        "* Try simple conversions with python syntax"
      ]
    },
    {
      "cell_type": "markdown",
      "id": "e9236add",
      "metadata": {
        "id": "e9236add"
      },
      "source": [
        "Some of the popular languages that Data Scientists use are:\n",
        "1. R\n",
        "2. Python\n",
        "3. SQL"
      ]
    },
    {
      "cell_type": "markdown",
      "id": "e07d78b1",
      "metadata": {
        "id": "e07d78b1"
      },
      "source": [
        "Some of the commonly used libraries used by Data Scientists include:\n",
        "1. pandas\n",
        "2. matplotlib\n",
        "3. seaborn\n",
        "4. numpy\n",
        "5. scipy\n",
        "6. sklearn"
      ]
    },
    {
      "cell_type": "markdown",
      "id": "305f560b",
      "metadata": {
        "id": "305f560b"
      },
      "source": [
        "| Data Science Tools |\n",
        "| ----------- |\n",
        "| RStudio     |\n",
        "| Anaconda    |\n",
        "| Jupyter Notebooks|\n",
        "| Tableau Desktop |"
      ]
    },
    {
      "cell_type": "markdown",
      "id": "3dfce323",
      "metadata": {
        "id": "3dfce323"
      },
      "source": [
        "### Below are a few examples of evaluating arithmetic expressions in Python"
      ]
    },
    {
      "cell_type": "code",
      "execution_count": 1,
      "id": "4e62fe17",
      "metadata": {
        "colab": {
          "base_uri": "https://localhost:8080/"
        },
        "id": "4e62fe17",
        "outputId": "b60f5cdf-5da8-4d1d-88d3-558ad84c58d7"
      },
      "outputs": [
        {
          "output_type": "execute_result",
          "data": {
            "text/plain": [
              "17"
            ]
          },
          "metadata": {},
          "execution_count": 1
        }
      ],
      "source": [
        "# This a simple arithmetic expression to mutiply then add integers\n",
        "(3*4)+5"
      ]
    },
    {
      "cell_type": "code",
      "execution_count": 2,
      "id": "84e1de81",
      "metadata": {
        "colab": {
          "base_uri": "https://localhost:8080/"
        },
        "id": "84e1de81",
        "outputId": "98b66c13-205c-4f51-e554-5dc2580732ca"
      },
      "outputs": [
        {
          "output_type": "stream",
          "name": "stdout",
          "text": [
            "Minutes: 200\n",
            "Hours: 3.3333333333333335\n"
          ]
        }
      ],
      "source": [
        "#This will convert 200 minutes to hours by diving by 60\n",
        "mins = 200\n",
        "print(f'Minutes: {mins}')\n",
        "hours = mins / 60\n",
        "print(f'Hours: {hours}')"
      ]
    },
    {
      "cell_type": "code",
      "execution_count": 2,
      "id": "a0213bf8",
      "metadata": {
        "id": "a0213bf8"
      },
      "outputs": [],
      "source": []
    }
  ],
  "metadata": {
    "kernelspec": {
      "display_name": "Python 3",
      "language": "python",
      "name": "python3"
    },
    "language_info": {
      "codemirror_mode": {
        "name": "ipython",
        "version": 3
      },
      "file_extension": ".py",
      "mimetype": "text/x-python",
      "name": "python",
      "nbconvert_exporter": "python",
      "pygments_lexer": "ipython3",
      "version": "3.8.8"
    },
    "colab": {
      "provenance": []
    }
  },
  "nbformat": 4,
  "nbformat_minor": 5
}